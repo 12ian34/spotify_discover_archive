{
 "cells": [
  {
   "cell_type": "code",
   "execution_count": 23,
   "metadata": {
    "ExecuteTime": {
     "end_time": "2021-02-01T19:52:39.238754Z",
     "start_time": "2021-02-01T19:52:39.236263Z"
    }
   },
   "outputs": [],
   "source": [
    "import datetime\n",
    "import json\n",
    "import requests\n",
    "import pandas as pd\n",
    "from flask import Flask, request, redirect, g, render_template, session\n",
    "from urllib.parse import quote"
   ]
  },
  {
   "cell_type": "code",
   "execution_count": 36,
   "metadata": {
    "ExecuteTime": {
     "end_time": "2021-02-01T20:00:54.841260Z",
     "start_time": "2021-02-01T20:00:54.830272Z"
    }
   },
   "outputs": [],
   "source": [
    "app = Flask(__name__)\n",
    "\n",
    "#  Client Keys\n",
    "CLIENT_ID = \"fad471ed57bb445f9f5397411571544a\"\n",
    "CLIENT_SECRET = \"b10027e90d9c4a6081fda3635808fe33\"\n",
    "\n",
    "# Spotify URLS\n",
    "SPOTIFY_AUTH_URL = \"https://accounts.spotify.com/authorize\"\n",
    "SPOTIFY_TOKEN_URL = \"https://accounts.spotify.com/api/token\"\n",
    "SPOTIFY_API_BASE_URL = \"https://api.spotify.com\"\n",
    "API_VERSION = \"v1\"\n",
    "SPOTIFY_API_URL = \"{}/{}\".format(SPOTIFY_API_BASE_URL, API_VERSION)\n",
    "\n",
    "# Server-side Parameters\n",
    "CLIENT_SIDE_URL = \"http://127.0.0.1\"\n",
    "PORT = 5050\n",
    "REDIRECT_URI = \"{}:{}/callback/q\".format(CLIENT_SIDE_URL, PORT)\n",
    "SCOPE = \"playlist-modify-public playlist-modify-private playlist-read-private\"\n",
    "STATE = \"plokiju123\"\n",
    "SHOW_DIALOG_bool = True\n",
    "SHOW_DIALOG_str = str(SHOW_DIALOG_bool).lower()\n",
    "\n",
    "auth_query_parameters = {\n",
    "    \"response_type\": \"code\",\n",
    "    \"redirect_uri\": REDIRECT_URI,\n",
    "    \"scope\": SCOPE,\n",
    "    \"state\": STATE,\n",
    "    # \"show_dialog\": SHOW_DIALOG_str,\n",
    "    \"client_id\": CLIENT_ID\n",
    "}\n",
    "\n",
    "@app.route(\"/\")\n",
    "def index():\n",
    "    # Auth Step 1: Authorization\n",
    "    url_args = \"&\".join([\"{}={}\".format(key, quote(val)) for key, val in auth_query_parameters.items()])\n",
    "    auth_url = \"{}/?{}\".format(SPOTIFY_AUTH_URL, url_args)\n",
    "    return redirect(auth_url)\n",
    "\n",
    "@app.route(\"/callback/q\")\n",
    "def callback():\n",
    "    # Auth Step 4: Requests refresh and access tokens\n",
    "    auth_token = request.args['code']\n",
    "    code_payload = {\n",
    "        \"grant_type\": \"authorization_code\",\n",
    "        \"code\": str(auth_token),\n",
    "        \"redirect_uri\": REDIRECT_URI,\n",
    "        'client_id': CLIENT_ID,\n",
    "        'client_secret': CLIENT_SECRET,\n",
    "    }\n",
    "    post_request = requests.post(SPOTIFY_TOKEN_URL, data=code_payload)\n",
    "\n",
    "    # Auth Step 5: Tokens are Returned to Application\n",
    "    response_data = json.loads(post_request.text)\n",
    "    access_token = response_data[\"access_token\"]\n",
    "    refresh_token = response_data[\"refresh_token\"]\n",
    "    token_type = response_data[\"token_type\"]\n",
    "    expires_in = response_data[\"expires_in\"]\n",
    "\n",
    "    # Auth Step 6: Use the access token to access Spotify API\n",
    "    authorization_header = {\"Authorization\": \"Bearer {}\".format(access_token)}\n",
    "\n",
    "    # Get profile data\n",
    "    user_profile_api_endpoint = \"{}/me\".format(SPOTIFY_API_URL)\n",
    "    profile_response = requests.get(user_profile_api_endpoint, headers=authorization_header)\n",
    "    profile_data = json.loads(profile_response.text)\n",
    "\n",
    "    # Get user playlist data\n",
    "    playlist_api_endpoint = \"{}/playlists\".format(profile_data[\"href\"])\n",
    "    playlists_response = requests.get(playlist_api_endpoint, headers=authorization_header)\n",
    "    playlist_data = json.loads(playlists_response.text)\n",
    "    \n",
    "    # Isolate official Discover Weekly playlist\n",
    "    for item in playlist_data['items']:\n",
    "        if((item['name'] == \"Discover Weekly\") & (item['owner']['display_name'] == \"Spotify\")):\n",
    "            DISCOVER_WEEKLY_PLAYLIST_ID = item['id']\n",
    "    \n",
    "    # Get current Discover Weekly playlist tracks\n",
    "    discover_weekly_playlist_tracks_endpoint = \"{}/playlists/{}/tracks\".format(SPOTIFY_API_URL, DISCOVER_WEEKLY_PLAYLIST_ID)\n",
    "    discover_weekly_response = requests.get(discover_weekly_playlist_tracks_endpoint, headers=authorization_header)\n",
    "\n",
    "    # Process current Discover Weekly tracks\n",
    "    discover_weekly_track_details = discover_weekly_response.json()\n",
    "\n",
    "    tracks = []\n",
    "    sub_artists = []\n",
    "    artists = []\n",
    "    durations = []\n",
    "    popularities = []\n",
    "    release_dates = []\n",
    "    track_ids = []\n",
    "\n",
    "    for item in discover_weekly_track_details['items']:\n",
    "        tracks.append(item['track']['name'])\n",
    "\n",
    "    for item in discover_weekly_track_details['items']:\n",
    "        track_ids.append(item['track']['id'])\n",
    "        durations.append(datetime.datetime.fromtimestamp(item['track']['duration_ms']/1000).strftime('%-M:%S'))\n",
    "        popularities.append(item['track']['popularity'])\n",
    "        release_dates.append(item['track']['album']['release_date'])\n",
    "        if(len(item['track']['artists'])>1):\n",
    "            for artist in item['track']['artists']:\n",
    "                sub_artists.append(artist['name'])\n",
    "            artists.append(', '.join(sub_artists))\n",
    "            sub_artists = []\n",
    "        else:\n",
    "            artists.append(item['track']['artists'][0]['name'])\n",
    "\n",
    "    track_artist = list(zip(\n",
    "        tracks,\n",
    "        artists,\n",
    "        durations,\n",
    "        popularities,\n",
    "        release_dates,\n",
    "        track_ids,\n",
    "    ))\n",
    "\n",
    "    df = pd.DataFrame(track_artist, columns=[\n",
    "        'track_name',\n",
    "        'artists',\n",
    "        'duration',\n",
    "        'popularity',\n",
    "        'release_date',\n",
    "        'track_id',\n",
    "    ])\n",
    "    \n",
    "    # Create Discover Archive playlist or identify it.\n",
    "    \n",
    "    \n",
    "    discover_weekly_playlist_tracks_endpoint = \"{}/playlists/{}/tracks\".format(SPOTIFY_API_URL, DISCOVER_WEEKLY_PLAYLIST_ID)\n",
    "    discover_weekly_response = requests.get(discover_weekly_playlist_tracks_endpoint, headers=authorization_header)\n",
    "    \n",
    "    create_playlist_endpoint = 'https://api.spotify.com/v1/users/{}/playlists'.format(profile_data['id'])\n",
    "    \n",
    "    request_body = json.dumps({\n",
    "          \"name\": \"Discover Archive test\",\n",
    "          \"description\": \"Discover Archive test\",\n",
    "          \"public\": False\n",
    "        })\n",
    "    \n",
    "    requests.post(url=create_playlist_endpoint, data=request_body, headers=authorization_header)\n",
    "\n",
    "    return render_template('index.html', tables=[df.to_html(classes='data')], titles=df.columns.values)"
   ]
  },
  {
   "cell_type": "code",
   "execution_count": 37,
   "metadata": {
    "ExecuteTime": {
     "end_time": "2021-02-01T20:01:49.542529Z",
     "start_time": "2021-02-01T20:00:54.960985Z"
    },
    "scrolled": false
   },
   "outputs": [
    {
     "name": "stdout",
     "output_type": "stream",
     "text": [
      " * Serving Flask app \"__main__\" (lazy loading)\n",
      " * Environment: production\n",
      "\u001b[31m   WARNING: This is a development server. Do not use it in a production deployment.\u001b[0m\n",
      "\u001b[2m   Use a production WSGI server instead.\u001b[0m\n",
      " * Debug mode: off\n"
     ]
    },
    {
     "name": "stderr",
     "output_type": "stream",
     "text": [
      " * Running on http://127.0.0.1:5050/ (Press CTRL+C to quit)\n",
      "127.0.0.1 - - [01/Feb/2021 20:00:56] \"\u001b[32mGET / HTTP/1.1\u001b[0m\" 302 -\n",
      "127.0.0.1 - - [01/Feb/2021 20:00:57] \"\u001b[37mGET /callback/q?code=AQDb0VOxDpmUHDLVfaJ5nJgVCJAa680LHHt-9G1YXf2KBx5TDr4Z1tfHhFPqWd--UKQU6Ocvi2qh926jO0ub0NocYfD1xMut26fDZhbl7wzti-BjV0T-F91Ebf3W043BWkNe_R2YEZgT79KaQlmzLlENAlVPqD2jvbJG4Y1o3jB05jAtbTbZot-tQagRuhVJMWO1h3yQqZ37PEaU3WY_uB_eEefWl2b3gs1ypZIFexn7HfeSrpcT-5-lK42edq_dmN0qk6czzjeX3fVf&state=plokiju123 HTTP/1.1\u001b[0m\" 200 -\n"
     ]
    }
   ],
   "source": [
    "if __name__ == \"__main__\":\n",
    "    app.run(debug=False, port=PORT)"
   ]
  },
  {
   "cell_type": "code",
   "execution_count": null,
   "metadata": {},
   "outputs": [],
   "source": []
  },
  {
   "cell_type": "code",
   "execution_count": null,
   "metadata": {},
   "outputs": [],
   "source": []
  },
  {
   "cell_type": "code",
   "execution_count": 38,
   "metadata": {
    "ExecuteTime": {
     "end_time": "2021-02-01T20:01:50.413966Z",
     "start_time": "2021-02-01T20:01:50.411595Z"
    }
   },
   "outputs": [],
   "source": [
    "import datetime\n",
    "import json\n",
    "import requests as re\n",
    "import pandas as pd\n",
    "from flask import Flask, request, redirect, g, render_template\n",
    "from urllib.parse import quote"
   ]
  },
  {
   "cell_type": "code",
   "execution_count": 39,
   "metadata": {
    "ExecuteTime": {
     "end_time": "2021-02-01T20:01:50.583222Z",
     "start_time": "2021-02-01T20:01:50.580474Z"
    }
   },
   "outputs": [],
   "source": [
    "AUTH_URL = 'https://accounts.spotify.com/api/token'\n",
    "AUTHORIZE_URL = 'https://accounts.spotify.com/authorize'\n",
    "BASE_API_URL = 'https://api.spotify.com/v1/'\n",
    "CLIENT_ID = 'fad471ed57bb445f9f5397411571544a'\n",
    "CLIENT_SECRET = 'b10027e90d9c4a6081fda3635808fe33'\n",
    "REDIRECT_URI = 'http://127.0.0.1:5000/'\n",
    "MARKET = 'GB'\n",
    "USERNAME = '12ian34'\n",
    "SCOPES = 'playlist-modify-private playlist-read-private'"
   ]
  },
  {
   "cell_type": "code",
   "execution_count": 40,
   "metadata": {
    "ExecuteTime": {
     "end_time": "2021-02-01T20:01:50.755431Z",
     "start_time": "2021-02-01T20:01:50.724201Z"
    }
   },
   "outputs": [],
   "source": [
    "auth_response = re.post(AUTH_URL, {\n",
    "    'grant_type': 'client_credentials',\n",
    "    'client_id': CLIENT_ID,\n",
    "    'client_secret': CLIENT_SECRET,\n",
    "})\n",
    "\n",
    "auth_response_data = auth_response.json()\n",
    "access_token = auth_response_data['access_token']\n",
    "headers = {'Authorization': 'Bearer {token}'.format(token=access_token)}"
   ]
  },
  {
   "cell_type": "code",
   "execution_count": 41,
   "metadata": {
    "ExecuteTime": {
     "end_time": "2021-02-01T20:01:50.920526Z",
     "start_time": "2021-02-01T20:01:50.874512Z"
    },
    "code_folding": []
   },
   "outputs": [],
   "source": [
    "get_user_profile = re.get(BASE_API_URL + 'users/' + USERNAME, headers=headers)\n",
    "get_user_profile = get_user_profile.json()"
   ]
  },
  {
   "cell_type": "code",
   "execution_count": 45,
   "metadata": {
    "ExecuteTime": {
     "end_time": "2021-02-01T20:03:12.288487Z",
     "start_time": "2021-02-01T20:03:12.285993Z"
    }
   },
   "outputs": [],
   "source": [
    "# user_id = \"YOUR_USER_ID\"\n",
    "# endpoint_url = f\"https://api.spotify.com/v1/users/{user_id}/playlists\"\n",
    "# request_body = json.dumps({\n",
    "#           \"name\": \"Indie bands like Franz Ferdinand but using Python\",\n",
    "#           \"description\": \"My first programmatic playlist, yooo!\",\n",
    "#           \"public\": False # let's keep it between us - for now\n",
    "#         })\n",
    "# response = requests.post(url = endpoint_url, data = request_body, headers={\"Content-Type\":\"application/json\", \n",
    "#                         \"Authorization\":\"Bearer YOUR_TOKEN_HERE\"})"
   ]
  },
  {
   "cell_type": "code",
   "execution_count": 46,
   "metadata": {
    "ExecuteTime": {
     "end_time": "2021-02-01T20:03:12.557148Z",
     "start_time": "2021-02-01T20:03:12.437296Z"
    }
   },
   "outputs": [],
   "source": [
    "get_user_playlists = re.get(BASE_API_URL + 'users/' + USERNAME + '/playlists/', headers=headers)\n",
    "get_user_playlists = get_user_playlists.json()\n",
    "\n",
    "for item in get_user_playlists['items']:\n",
    "    if((item['name'] == \"Discover Weekly\") & (item['owner']['display_name'] == \"Spotify\")):\n",
    "        DISCOVER_WEEKLY_PLAYLIST_ID = item['id']"
   ]
  },
  {
   "cell_type": "code",
   "execution_count": 72,
   "metadata": {
    "ExecuteTime": {
     "end_time": "2021-02-01T20:22:30.334350Z",
     "start_time": "2021-02-01T20:22:30.224925Z"
    },
    "scrolled": false
   },
   "outputs": [],
   "source": [
    "get_user_playlists = re.get(BASE_API_URL + 'users/' + USERNAME + '/playlists/', headers=headers, params={'limit': 50})\n",
    "get_user_playlists = get_user_playlists.json()\n",
    "\n",
    "for item in get_user_playlists['items']:\n",
    "    if((item['name'] == \"Discover Archive test\")):\n",
    "        print(item)"
   ]
  },
  {
   "cell_type": "code",
   "execution_count": 73,
   "metadata": {
    "ExecuteTime": {
     "end_time": "2021-02-01T20:22:30.459166Z",
     "start_time": "2021-02-01T20:22:30.455437Z"
    }
   },
   "outputs": [
    {
     "data": {
      "text/plain": [
       "'https://api.spotify.com/v1/users/12ian34/playlists?offset=50&limit=50'"
      ]
     },
     "execution_count": 73,
     "metadata": {},
     "output_type": "execute_result"
    }
   ],
   "source": [
    "get_user_playlists['next']"
   ]
  },
  {
   "cell_type": "code",
   "execution_count": 74,
   "metadata": {
    "ExecuteTime": {
     "end_time": "2021-02-01T20:23:27.141800Z",
     "start_time": "2021-02-01T20:23:26.972339Z"
    }
   },
   "outputs": [
    {
     "ename": "KeyError",
     "evalue": "'next'",
     "output_type": "error",
     "traceback": [
      "\u001b[0;31m---------------------------------------------------------------------------\u001b[0m",
      "\u001b[0;31mKeyError\u001b[0m                                  Traceback (most recent call last)",
      "\u001b[0;32m<ipython-input-74-067ec998a209>\u001b[0m in \u001b[0;36m<module>\u001b[0;34m\u001b[0m\n\u001b[1;32m      8\u001b[0m \u001b[0;34m\u001b[0m\u001b[0m\n\u001b[1;32m      9\u001b[0m \u001b[0;31m# While data['next'] isn't empty, let's download the next page, too\u001b[0m\u001b[0;34m\u001b[0m\u001b[0;34m\u001b[0m\u001b[0;34m\u001b[0m\u001b[0m\n\u001b[0;32m---> 10\u001b[0;31m \u001b[0;32mwhile\u001b[0m \u001b[0mdata\u001b[0m\u001b[0;34m[\u001b[0m\u001b[0;34m'next'\u001b[0m\u001b[0;34m]\u001b[0m \u001b[0;32mis\u001b[0m \u001b[0;32mnot\u001b[0m \u001b[0;32mNone\u001b[0m\u001b[0;34m:\u001b[0m\u001b[0;34m\u001b[0m\u001b[0;34m\u001b[0m\u001b[0m\n\u001b[0m\u001b[1;32m     11\u001b[0m     \u001b[0mget_user_playlists\u001b[0m \u001b[0;34m=\u001b[0m \u001b[0mre\u001b[0m\u001b[0;34m.\u001b[0m\u001b[0mget\u001b[0m\u001b[0;34m(\u001b[0m\u001b[0mdata\u001b[0m\u001b[0;34m[\u001b[0m\u001b[0;34m'next'\u001b[0m\u001b[0;34m]\u001b[0m\u001b[0;34m)\u001b[0m\u001b[0;34m\u001b[0m\u001b[0;34m\u001b[0m\u001b[0m\n\u001b[1;32m     12\u001b[0m     \u001b[0mdata\u001b[0m \u001b[0;34m=\u001b[0m \u001b[0mget_user_playlists\u001b[0m\u001b[0;34m.\u001b[0m\u001b[0mjson\u001b[0m\u001b[0;34m(\u001b[0m\u001b[0;34m)\u001b[0m\u001b[0;34m\u001b[0m\u001b[0;34m\u001b[0m\u001b[0m\n",
      "\u001b[0;31mKeyError\u001b[0m: 'next'"
     ]
    }
   ],
   "source": [
    "get_user_playlist_results = []\n",
    "\n",
    "get_user_playlists = re.get(BASE_API_URL + 'users/' + USERNAME + '/playlists/', headers=headers, params={'limit': 50})\n",
    "data = get_user_playlists.json()\n",
    "\n",
    "# Store the first page of results\n",
    "get_user_playlist_results += data\n",
    "\n",
    "# While data['next'] isn't empty, let's download the next page, too\n",
    "while data['next'] is not None:\n",
    "    get_user_playlists = re.get(data['next'])\n",
    "    data = get_user_playlists.json()\n",
    "    # Store the current page of results\n",
    "    get_user_playlist_results += data"
   ]
  },
  {
   "cell_type": "code",
   "execution_count": null,
   "metadata": {},
   "outputs": [],
   "source": []
  },
  {
   "cell_type": "code",
   "execution_count": null,
   "metadata": {},
   "outputs": [],
   "source": []
  },
  {
   "cell_type": "code",
   "execution_count": 64,
   "metadata": {
    "ExecuteTime": {
     "end_time": "2021-02-01T20:14:38.196854Z",
     "start_time": "2021-02-01T20:14:38.193477Z"
    },
    "scrolled": false
   },
   "outputs": [
    {
     "data": {
      "text/plain": [
       "'https://api.spotify.com/v1/users/12ian34/playlists?offset=50&limit=50'"
      ]
     },
     "execution_count": 64,
     "metadata": {},
     "output_type": "execute_result"
    }
   ],
   "source": [
    "get_user_playlists = re.get(BASE_API_URL + 'users/' + USERNAME + '/playlists/', headers=headers, params={'limit': 50})\n",
    "get_user_playlists = get_user_playlists.json()\n",
    "\n",
    "if(len(get_user_playlists['next']>0)):\n",
    "    while len(get_user_playlists['next']>0):\n",
    "        get_user_playlists = re.get(BASE_API_URL + 'users/' + USERNAME + '/playlists/', headers=headers, params={'limit': 50})\n"
   ]
  },
  {
   "cell_type": "code",
   "execution_count": null,
   "metadata": {},
   "outputs": [],
   "source": []
  },
  {
   "cell_type": "code",
   "execution_count": 57,
   "metadata": {
    "ExecuteTime": {
     "end_time": "2021-02-01T20:13:08.832316Z",
     "start_time": "2021-02-01T20:13:08.828699Z"
    }
   },
   "outputs": [
    {
     "data": {
      "text/plain": [
       "['__class__',\n",
       " '__contains__',\n",
       " '__delattr__',\n",
       " '__delitem__',\n",
       " '__dir__',\n",
       " '__doc__',\n",
       " '__eq__',\n",
       " '__format__',\n",
       " '__ge__',\n",
       " '__getattribute__',\n",
       " '__getitem__',\n",
       " '__gt__',\n",
       " '__hash__',\n",
       " '__init__',\n",
       " '__init_subclass__',\n",
       " '__iter__',\n",
       " '__le__',\n",
       " '__len__',\n",
       " '__lt__',\n",
       " '__ne__',\n",
       " '__new__',\n",
       " '__reduce__',\n",
       " '__reduce_ex__',\n",
       " '__repr__',\n",
       " '__reversed__',\n",
       " '__setattr__',\n",
       " '__setitem__',\n",
       " '__sizeof__',\n",
       " '__str__',\n",
       " '__subclasshook__',\n",
       " 'clear',\n",
       " 'copy',\n",
       " 'fromkeys',\n",
       " 'get',\n",
       " 'items',\n",
       " 'keys',\n",
       " 'pop',\n",
       " 'popitem',\n",
       " 'setdefault',\n",
       " 'update',\n",
       " 'values']"
      ]
     },
     "execution_count": 57,
     "metadata": {},
     "output_type": "execute_result"
    }
   ],
   "source": [
    "dir(get_user_playlists)"
   ]
  },
  {
   "cell_type": "code",
   "execution_count": 60,
   "metadata": {
    "ExecuteTime": {
     "end_time": "2021-02-01T20:13:26.798462Z",
     "start_time": "2021-02-01T20:13:26.794908Z"
    },
    "scrolled": false
   },
   "outputs": [
    {
     "data": {
      "text/plain": [
       "50"
      ]
     },
     "execution_count": 60,
     "metadata": {},
     "output_type": "execute_result"
    }
   ],
   "source": [
    "len(get_user_playlists['items'])"
   ]
  },
  {
   "cell_type": "code",
   "execution_count": null,
   "metadata": {},
   "outputs": [],
   "source": []
  },
  {
   "cell_type": "code",
   "execution_count": null,
   "metadata": {},
   "outputs": [],
   "source": []
  },
  {
   "cell_type": "code",
   "execution_count": null,
   "metadata": {},
   "outputs": [],
   "source": []
  },
  {
   "cell_type": "code",
   "execution_count": 44,
   "metadata": {
    "ExecuteTime": {
     "end_time": "2021-02-01T20:01:55.985859Z",
     "start_time": "2021-02-01T20:01:55.866740Z"
    }
   },
   "outputs": [
    {
     "data": {
      "text/html": [
       "<div>\n",
       "<style scoped>\n",
       "    .dataframe tbody tr th:only-of-type {\n",
       "        vertical-align: middle;\n",
       "    }\n",
       "\n",
       "    .dataframe tbody tr th {\n",
       "        vertical-align: top;\n",
       "    }\n",
       "\n",
       "    .dataframe thead th {\n",
       "        text-align: right;\n",
       "    }\n",
       "</style>\n",
       "<table border=\"1\" class=\"dataframe\">\n",
       "  <thead>\n",
       "    <tr style=\"text-align: right;\">\n",
       "      <th></th>\n",
       "      <th>track_name</th>\n",
       "      <th>artists</th>\n",
       "      <th>duration</th>\n",
       "      <th>popularity</th>\n",
       "      <th>release_date</th>\n",
       "      <th>track_id</th>\n",
       "    </tr>\n",
       "  </thead>\n",
       "  <tbody>\n",
       "    <tr>\n",
       "      <th>0</th>\n",
       "      <td>Ordinary Boy - Floating Points Remix</td>\n",
       "      <td>Ultraísta, Floating Points</td>\n",
       "      <td>7:33</td>\n",
       "      <td>28</td>\n",
       "      <td>2020-09-29</td>\n",
       "      <td>5BFn2BNYCQ42w3Z6P0MmIY</td>\n",
       "    </tr>\n",
       "    <tr>\n",
       "      <th>1</th>\n",
       "      <td>ʅ͡͡͡͡͡͡͡͡͡͡͡(ƟӨ)ʃ͡͡͡͡͡͡͡͡͡͡ ꐑ(ཀ ඊູ ఠీੂ೧ູ࿃ूੂ✧✧✧...</td>\n",
       "      <td>⣎⡇ꉺლ༽இ•̛)ྀ◞ ༎ຶ ༽ৣৢ؞ৢ؞ؖ ꉺლ</td>\n",
       "      <td>4:38</td>\n",
       "      <td>42</td>\n",
       "      <td>2019-10-31</td>\n",
       "      <td>2SJo1P387WJHJx1uFbyrRj</td>\n",
       "    </tr>\n",
       "    <tr>\n",
       "      <th>2</th>\n",
       "      <td>Throwing Down A Shape</td>\n",
       "      <td>Fila Brazillia</td>\n",
       "      <td>5:19</td>\n",
       "      <td>32</td>\n",
       "      <td>1998</td>\n",
       "      <td>0CFFq1tvJyVjtF9qc3pt5y</td>\n",
       "    </tr>\n",
       "    <tr>\n",
       "      <th>3</th>\n",
       "      <td>The C In Certain</td>\n",
       "      <td>David Grubbs</td>\n",
       "      <td>6:23</td>\n",
       "      <td>32</td>\n",
       "      <td>2018-04-01</td>\n",
       "      <td>1rNqvHHH5PTpX2E7guUwbj</td>\n",
       "    </tr>\n",
       "    <tr>\n",
       "      <th>4</th>\n",
       "      <td>Mohegan Suite</td>\n",
       "      <td>Daniel Lopatin</td>\n",
       "      <td>4:42</td>\n",
       "      <td>32</td>\n",
       "      <td>2019-12-13</td>\n",
       "      <td>5rB7OkSRElmSWoif0DNaIu</td>\n",
       "    </tr>\n",
       "    <tr>\n",
       "      <th>5</th>\n",
       "      <td>Seashell</td>\n",
       "      <td>Skylab</td>\n",
       "      <td>5:39</td>\n",
       "      <td>39</td>\n",
       "      <td>2015-06-09</td>\n",
       "      <td>18pedqpot9iF1Z7Ol3YHmc</td>\n",
       "    </tr>\n",
       "    <tr>\n",
       "      <th>6</th>\n",
       "      <td>Future Waves</td>\n",
       "      <td>Uther Moads</td>\n",
       "      <td>4:00</td>\n",
       "      <td>42</td>\n",
       "      <td>2011</td>\n",
       "      <td>1bL3lI3ykZjw9Zul1Ir51y</td>\n",
       "    </tr>\n",
       "    <tr>\n",
       "      <th>7</th>\n",
       "      <td>Abiogenesis</td>\n",
       "      <td>Carbon Based Lifeforms</td>\n",
       "      <td>6:45</td>\n",
       "      <td>39</td>\n",
       "      <td>2006-12-02</td>\n",
       "      <td>7B87dSMUgWM2Taj0EEXtjp</td>\n",
       "    </tr>\n",
       "    <tr>\n",
       "      <th>8</th>\n",
       "      <td>Nowhere</td>\n",
       "      <td>Nosaj Thing</td>\n",
       "      <td>2:28</td>\n",
       "      <td>24</td>\n",
       "      <td>2017-09-08</td>\n",
       "      <td>6IFxu0KyXQGvjvJ2bmaCZm</td>\n",
       "    </tr>\n",
       "    <tr>\n",
       "      <th>9</th>\n",
       "      <td>Fruitcake and Cookies</td>\n",
       "      <td>Sweet Trip</td>\n",
       "      <td>7:58</td>\n",
       "      <td>38</td>\n",
       "      <td>2003-06-10</td>\n",
       "      <td>50bVt9oMOYwnFe2uf4OSpf</td>\n",
       "    </tr>\n",
       "    <tr>\n",
       "      <th>10</th>\n",
       "      <td>King Tubby Meets Rockers Uptown</td>\n",
       "      <td>King Tubby, Augustus Pablo</td>\n",
       "      <td>2:32</td>\n",
       "      <td>44</td>\n",
       "      <td>1976-07-07</td>\n",
       "      <td>38gBmRO7BNAgPz35WFgZkl</td>\n",
       "    </tr>\n",
       "    <tr>\n",
       "      <th>11</th>\n",
       "      <td>Legend of the Golden Snake - Single Version</td>\n",
       "      <td>Depth Charge</td>\n",
       "      <td>4:26</td>\n",
       "      <td>36</td>\n",
       "      <td>2002-01-01</td>\n",
       "      <td>1LYMWLIvXHWehNAUUC32rO</td>\n",
       "    </tr>\n",
       "    <tr>\n",
       "      <th>12</th>\n",
       "      <td>&gt;;0 (feat. Vegyn)</td>\n",
       "      <td>Mk.gee, Vegyn</td>\n",
       "      <td>2:07</td>\n",
       "      <td>34</td>\n",
       "      <td>2020-05-22</td>\n",
       "      <td>64tgANMtVxmUzIYfuZSZrx</td>\n",
       "    </tr>\n",
       "    <tr>\n",
       "      <th>13</th>\n",
       "      <td>Heroes - Kruder Long Loose Bossa / Edit</td>\n",
       "      <td>Roni Size, Reprazent, Peter Kruder</td>\n",
       "      <td>6:35</td>\n",
       "      <td>34</td>\n",
       "      <td>1997-05-23</td>\n",
       "      <td>5I8nAxLa7quS6g3PxQNQES</td>\n",
       "    </tr>\n",
       "    <tr>\n",
       "      <th>14</th>\n",
       "      <td>Something's Got To Give - Remastered 2009</td>\n",
       "      <td>Beastie Boys</td>\n",
       "      <td>3:27</td>\n",
       "      <td>22</td>\n",
       "      <td>1992-04-21</td>\n",
       "      <td>2oXgwbqwzDK7v8ZSRRiZeE</td>\n",
       "    </tr>\n",
       "    <tr>\n",
       "      <th>15</th>\n",
       "      <td>Change (In The House Of Flies) - Tourist Remix</td>\n",
       "      <td>Deftones, Tourist</td>\n",
       "      <td>5:02</td>\n",
       "      <td>43</td>\n",
       "      <td>2020-12-11</td>\n",
       "      <td>4pkzHLMGqci0b1GZ9opUvj</td>\n",
       "    </tr>\n",
       "    <tr>\n",
       "      <th>16</th>\n",
       "      <td>Redcloud</td>\n",
       "      <td>E-Saggila</td>\n",
       "      <td>4:51</td>\n",
       "      <td>23</td>\n",
       "      <td>2020-11-20</td>\n",
       "      <td>40mtpfIpdy0HSUO1IU6BCA</td>\n",
       "    </tr>\n",
       "    <tr>\n",
       "      <th>17</th>\n",
       "      <td>Echo//Radiate</td>\n",
       "      <td>Superposition</td>\n",
       "      <td>3:54</td>\n",
       "      <td>33</td>\n",
       "      <td>2020-04-03</td>\n",
       "      <td>0BEhggI3kgHG9ofWYLHXC0</td>\n",
       "    </tr>\n",
       "    <tr>\n",
       "      <th>18</th>\n",
       "      <td>Holy Thursday</td>\n",
       "      <td>David Axelrod</td>\n",
       "      <td>5:31</td>\n",
       "      <td>42</td>\n",
       "      <td>1968-01-01</td>\n",
       "      <td>0VF21fEzB6OszZcJlKzyg5</td>\n",
       "    </tr>\n",
       "    <tr>\n",
       "      <th>19</th>\n",
       "      <td>Prologue</td>\n",
       "      <td>Ichiko Aoba</td>\n",
       "      <td>4:55</td>\n",
       "      <td>43</td>\n",
       "      <td>2020-12-02</td>\n",
       "      <td>2jLnnjX5L6YwtbShPiz2ws</td>\n",
       "    </tr>\n",
       "    <tr>\n",
       "      <th>20</th>\n",
       "      <td>Canton - 2003 Digital Remaster</td>\n",
       "      <td>Japan</td>\n",
       "      <td>5:35</td>\n",
       "      <td>32</td>\n",
       "      <td>1981</td>\n",
       "      <td>2jZhrlgUMEIgrQykoTd8wa</td>\n",
       "    </tr>\n",
       "    <tr>\n",
       "      <th>21</th>\n",
       "      <td>Eœ (Disk•Initiate)</td>\n",
       "      <td>Iglooghost</td>\n",
       "      <td>3:01</td>\n",
       "      <td>40</td>\n",
       "      <td>2020-11-25</td>\n",
       "      <td>7C3vZyZBMcSvUqJsk2p1Xn</td>\n",
       "    </tr>\n",
       "    <tr>\n",
       "      <th>22</th>\n",
       "      <td>Circle</td>\n",
       "      <td>Phil France</td>\n",
       "      <td>4:03</td>\n",
       "      <td>36</td>\n",
       "      <td>2018-08-31</td>\n",
       "      <td>4jyFzNUgeAkGKkmgADZYes</td>\n",
       "    </tr>\n",
       "    <tr>\n",
       "      <th>23</th>\n",
       "      <td>Umi No Ue Kara</td>\n",
       "      <td>Yasuaki Shimizu</td>\n",
       "      <td>8:18</td>\n",
       "      <td>38</td>\n",
       "      <td>1982</td>\n",
       "      <td>4Ee8z8ySuxdqTTPI868NtU</td>\n",
       "    </tr>\n",
       "    <tr>\n",
       "      <th>24</th>\n",
       "      <td>Osaka Sewers</td>\n",
       "      <td>Mega Drive</td>\n",
       "      <td>4:20</td>\n",
       "      <td>33</td>\n",
       "      <td>2014-05-16</td>\n",
       "      <td>3RHamZwxFMGp1OzNN831uS</td>\n",
       "    </tr>\n",
       "    <tr>\n",
       "      <th>25</th>\n",
       "      <td>Twelve Donkeys</td>\n",
       "      <td>Antoine Berjeaut, Makaya McCraven</td>\n",
       "      <td>6:09</td>\n",
       "      <td>40</td>\n",
       "      <td>2019-12-06</td>\n",
       "      <td>7KT0wjvsa5TOoU5TGiTwfs</td>\n",
       "    </tr>\n",
       "    <tr>\n",
       "      <th>26</th>\n",
       "      <td>Red Rock Riviera</td>\n",
       "      <td>British Sea Power</td>\n",
       "      <td>6:53</td>\n",
       "      <td>38</td>\n",
       "      <td>2013-12-02</td>\n",
       "      <td>3nVr75rx4FFrXGkuwU5CCg</td>\n",
       "    </tr>\n",
       "    <tr>\n",
       "      <th>27</th>\n",
       "      <td>Dambala</td>\n",
       "      <td>Exuma</td>\n",
       "      <td>5:39</td>\n",
       "      <td>36</td>\n",
       "      <td>1970-01-01</td>\n",
       "      <td>1iJRCfV3qbbCrxzpAcqMvY</td>\n",
       "    </tr>\n",
       "    <tr>\n",
       "      <th>28</th>\n",
       "      <td>Videosphere</td>\n",
       "      <td>Lake Turner</td>\n",
       "      <td>3:24</td>\n",
       "      <td>29</td>\n",
       "      <td>2020-10-23</td>\n",
       "      <td>3qP9zxK1DMsrj93m2j53CC</td>\n",
       "    </tr>\n",
       "    <tr>\n",
       "      <th>29</th>\n",
       "      <td>Bushido (Alessandro Cortini Re-Work)</td>\n",
       "      <td>Alessandro Cortini</td>\n",
       "      <td>4:19</td>\n",
       "      <td>31</td>\n",
       "      <td>2020-07-08</td>\n",
       "      <td>00McKa13pdr3JQIaMHtsW6</td>\n",
       "    </tr>\n",
       "  </tbody>\n",
       "</table>\n",
       "</div>"
      ],
      "text/plain": [
       "                                           track_name  \\\n",
       "0                Ordinary Boy - Floating Points Remix   \n",
       "1   ʅ͡͡͡͡͡͡͡͡͡͡͡(ƟӨ)ʃ͡͡͡͡͡͡͡͡͡͡ ꐑ(ཀ ඊູ ఠీੂ೧ູ࿃ूੂ✧✧✧...   \n",
       "2                               Throwing Down A Shape   \n",
       "3                                    The C In Certain   \n",
       "4                                       Mohegan Suite   \n",
       "5                                            Seashell   \n",
       "6                                        Future Waves   \n",
       "7                                         Abiogenesis   \n",
       "8                                             Nowhere   \n",
       "9                               Fruitcake and Cookies   \n",
       "10                    King Tubby Meets Rockers Uptown   \n",
       "11        Legend of the Golden Snake - Single Version   \n",
       "12                                  >;0 (feat. Vegyn)   \n",
       "13            Heroes - Kruder Long Loose Bossa / Edit   \n",
       "14          Something's Got To Give - Remastered 2009   \n",
       "15     Change (In The House Of Flies) - Tourist Remix   \n",
       "16                                           Redcloud   \n",
       "17                                      Echo//Radiate   \n",
       "18                                      Holy Thursday   \n",
       "19                                           Prologue   \n",
       "20                     Canton - 2003 Digital Remaster   \n",
       "21                                 Eœ (Disk•Initiate)   \n",
       "22                                             Circle   \n",
       "23                                     Umi No Ue Kara   \n",
       "24                                       Osaka Sewers   \n",
       "25                                     Twelve Donkeys   \n",
       "26                                   Red Rock Riviera   \n",
       "27                                            Dambala   \n",
       "28                                        Videosphere   \n",
       "29               Bushido (Alessandro Cortini Re-Work)   \n",
       "\n",
       "                               artists duration  popularity release_date  \\\n",
       "0           Ultraísta, Floating Points     7:33          28   2020-09-29   \n",
       "1            ⣎⡇ꉺლ༽இ•̛)ྀ◞ ༎ຶ ༽ৣৢ؞ৢ؞ؖ ꉺლ     4:38          42   2019-10-31   \n",
       "2                       Fila Brazillia     5:19          32         1998   \n",
       "3                         David Grubbs     6:23          32   2018-04-01   \n",
       "4                       Daniel Lopatin     4:42          32   2019-12-13   \n",
       "5                               Skylab     5:39          39   2015-06-09   \n",
       "6                          Uther Moads     4:00          42         2011   \n",
       "7               Carbon Based Lifeforms     6:45          39   2006-12-02   \n",
       "8                          Nosaj Thing     2:28          24   2017-09-08   \n",
       "9                           Sweet Trip     7:58          38   2003-06-10   \n",
       "10          King Tubby, Augustus Pablo     2:32          44   1976-07-07   \n",
       "11                        Depth Charge     4:26          36   2002-01-01   \n",
       "12                       Mk.gee, Vegyn     2:07          34   2020-05-22   \n",
       "13  Roni Size, Reprazent, Peter Kruder     6:35          34   1997-05-23   \n",
       "14                        Beastie Boys     3:27          22   1992-04-21   \n",
       "15                   Deftones, Tourist     5:02          43   2020-12-11   \n",
       "16                           E-Saggila     4:51          23   2020-11-20   \n",
       "17                       Superposition     3:54          33   2020-04-03   \n",
       "18                       David Axelrod     5:31          42   1968-01-01   \n",
       "19                         Ichiko Aoba     4:55          43   2020-12-02   \n",
       "20                               Japan     5:35          32         1981   \n",
       "21                          Iglooghost     3:01          40   2020-11-25   \n",
       "22                         Phil France     4:03          36   2018-08-31   \n",
       "23                     Yasuaki Shimizu     8:18          38         1982   \n",
       "24                          Mega Drive     4:20          33   2014-05-16   \n",
       "25   Antoine Berjeaut, Makaya McCraven     6:09          40   2019-12-06   \n",
       "26                   British Sea Power     6:53          38   2013-12-02   \n",
       "27                               Exuma     5:39          36   1970-01-01   \n",
       "28                         Lake Turner     3:24          29   2020-10-23   \n",
       "29                  Alessandro Cortini     4:19          31   2020-07-08   \n",
       "\n",
       "                  track_id  \n",
       "0   5BFn2BNYCQ42w3Z6P0MmIY  \n",
       "1   2SJo1P387WJHJx1uFbyrRj  \n",
       "2   0CFFq1tvJyVjtF9qc3pt5y  \n",
       "3   1rNqvHHH5PTpX2E7guUwbj  \n",
       "4   5rB7OkSRElmSWoif0DNaIu  \n",
       "5   18pedqpot9iF1Z7Ol3YHmc  \n",
       "6   1bL3lI3ykZjw9Zul1Ir51y  \n",
       "7   7B87dSMUgWM2Taj0EEXtjp  \n",
       "8   6IFxu0KyXQGvjvJ2bmaCZm  \n",
       "9   50bVt9oMOYwnFe2uf4OSpf  \n",
       "10  38gBmRO7BNAgPz35WFgZkl  \n",
       "11  1LYMWLIvXHWehNAUUC32rO  \n",
       "12  64tgANMtVxmUzIYfuZSZrx  \n",
       "13  5I8nAxLa7quS6g3PxQNQES  \n",
       "14  2oXgwbqwzDK7v8ZSRRiZeE  \n",
       "15  4pkzHLMGqci0b1GZ9opUvj  \n",
       "16  40mtpfIpdy0HSUO1IU6BCA  \n",
       "17  0BEhggI3kgHG9ofWYLHXC0  \n",
       "18  0VF21fEzB6OszZcJlKzyg5  \n",
       "19  2jLnnjX5L6YwtbShPiz2ws  \n",
       "20  2jZhrlgUMEIgrQykoTd8wa  \n",
       "21  7C3vZyZBMcSvUqJsk2p1Xn  \n",
       "22  4jyFzNUgeAkGKkmgADZYes  \n",
       "23  4Ee8z8ySuxdqTTPI868NtU  \n",
       "24  3RHamZwxFMGp1OzNN831uS  \n",
       "25  7KT0wjvsa5TOoU5TGiTwfs  \n",
       "26  3nVr75rx4FFrXGkuwU5CCg  \n",
       "27  1iJRCfV3qbbCrxzpAcqMvY  \n",
       "28  3qP9zxK1DMsrj93m2j53CC  \n",
       "29  00McKa13pdr3JQIaMHtsW6  "
      ]
     },
     "execution_count": 44,
     "metadata": {},
     "output_type": "execute_result"
    }
   ],
   "source": [
    "get_discover_weekly_tracks = re.get(BASE_API_URL + 'playlists/' + DISCOVER_WEEKLY_PLAYLIST_ID + '/tracks/?market=' + MARKET, headers=headers)\n",
    "get_discover_weekly_tracks = get_discover_weekly_tracks.json()\n",
    "\n",
    "tracks = []\n",
    "sub_artists = []\n",
    "artists = []\n",
    "durations = []\n",
    "popularities = []\n",
    "release_dates = []\n",
    "track_ids = []\n",
    "\n",
    "for item in get_discover_weekly_tracks['items']:\n",
    "    tracks.append(item['track']['name'])\n",
    "    \n",
    "for item in get_discover_weekly_tracks['items']:\n",
    "    track_ids.append(item['track']['id'])\n",
    "    durations.append(datetime.datetime.fromtimestamp(item['track']['duration_ms']/1000).strftime('%-M:%S'))\n",
    "    popularities.append(item['track']['popularity'])\n",
    "    release_dates.append(item['track']['album']['release_date'])\n",
    "    if(len(item['track']['artists'])>1):\n",
    "        for artist in item['track']['artists']:\n",
    "            sub_artists.append(artist['name'])\n",
    "        artists.append(', '.join(sub_artists))\n",
    "        sub_artists = []\n",
    "    else:\n",
    "        artists.append(item['track']['artists'][0]['name'])\n",
    "\n",
    "track_artist = list(zip(\n",
    "    tracks,\n",
    "    artists,\n",
    "    durations,\n",
    "    popularities,\n",
    "    release_dates,\n",
    "    track_ids,\n",
    "))\n",
    "\n",
    "df = pd.DataFrame(track_artist, columns=[\n",
    "    'track_name',\n",
    "    'artists',\n",
    "    'duration',\n",
    "    'popularity',\n",
    "    'release_date',\n",
    "    'track_id',\n",
    "])\n",
    "\n",
    "df"
   ]
  },
  {
   "cell_type": "code",
   "execution_count": null,
   "metadata": {},
   "outputs": [],
   "source": []
  },
  {
   "cell_type": "code",
   "execution_count": null,
   "metadata": {},
   "outputs": [],
   "source": []
  },
  {
   "cell_type": "code",
   "execution_count": null,
   "metadata": {},
   "outputs": [],
   "source": [
    "create_archive_playlist = re.get(BASE_API_URL + 'users/' + USERNAME + '/playlists/', headers=headers)\n"
   ]
  },
  {
   "cell_type": "code",
   "execution_count": null,
   "metadata": {},
   "outputs": [],
   "source": [
    "https://api.spotify.com/v1/users/{user_id}/playlists"
   ]
  },
  {
   "cell_type": "code",
   "execution_count": null,
   "metadata": {},
   "outputs": [],
   "source": []
  },
  {
   "cell_type": "code",
   "execution_count": 87,
   "metadata": {
    "scrolled": false
   },
   "outputs": [
    {
     "data": {
      "text/plain": [
       "{'added_at': '2021-02-01T00:00:00Z',\n",
       " 'added_by': {'external_urls': {'spotify': 'https://open.spotify.com/user/'},\n",
       "  'href': 'https://api.spotify.com/v1/users/',\n",
       "  'id': '',\n",
       "  'type': 'user',\n",
       "  'uri': 'spotify:user:'},\n",
       " 'is_local': False,\n",
       " 'primary_color': None,\n",
       " 'track': {'album': {'album_type': 'single',\n",
       "   'artists': [{'external_urls': {'spotify': 'https://open.spotify.com/artist/2f88S1uYsEwP0n4x36wvG7'},\n",
       "     'href': 'https://api.spotify.com/v1/artists/2f88S1uYsEwP0n4x36wvG7',\n",
       "     'id': '2f88S1uYsEwP0n4x36wvG7',\n",
       "     'name': 'Ultraísta',\n",
       "     'type': 'artist',\n",
       "     'uri': 'spotify:artist:2f88S1uYsEwP0n4x36wvG7'}],\n",
       "   'external_urls': {'spotify': 'https://open.spotify.com/album/3fobobpoaNdgD8XIMdqNMe'},\n",
       "   'href': 'https://api.spotify.com/v1/albums/3fobobpoaNdgD8XIMdqNMe',\n",
       "   'id': '3fobobpoaNdgD8XIMdqNMe',\n",
       "   'images': [{'height': 640,\n",
       "     'url': 'https://i.scdn.co/image/ab67616d0000b273fb79e88d6be5d46e5846e806',\n",
       "     'width': 640},\n",
       "    {'height': 300,\n",
       "     'url': 'https://i.scdn.co/image/ab67616d00001e02fb79e88d6be5d46e5846e806',\n",
       "     'width': 300},\n",
       "    {'height': 64,\n",
       "     'url': 'https://i.scdn.co/image/ab67616d00004851fb79e88d6be5d46e5846e806',\n",
       "     'width': 64}],\n",
       "   'name': 'Ordinary Boy (Floating Points Remix)',\n",
       "   'release_date': '2020-09-29',\n",
       "   'release_date_precision': 'day',\n",
       "   'total_tracks': 2,\n",
       "   'type': 'album',\n",
       "   'uri': 'spotify:album:3fobobpoaNdgD8XIMdqNMe'},\n",
       "  'artists': [{'external_urls': {'spotify': 'https://open.spotify.com/artist/2f88S1uYsEwP0n4x36wvG7'},\n",
       "    'href': 'https://api.spotify.com/v1/artists/2f88S1uYsEwP0n4x36wvG7',\n",
       "    'id': '2f88S1uYsEwP0n4x36wvG7',\n",
       "    'name': 'Ultraísta',\n",
       "    'type': 'artist',\n",
       "    'uri': 'spotify:artist:2f88S1uYsEwP0n4x36wvG7'},\n",
       "   {'external_urls': {'spotify': 'https://open.spotify.com/artist/2AR42Ur9PcchQDtEdwkv4L'},\n",
       "    'href': 'https://api.spotify.com/v1/artists/2AR42Ur9PcchQDtEdwkv4L',\n",
       "    'id': '2AR42Ur9PcchQDtEdwkv4L',\n",
       "    'name': 'Floating Points',\n",
       "    'type': 'artist',\n",
       "    'uri': 'spotify:artist:2AR42Ur9PcchQDtEdwkv4L'}],\n",
       "  'disc_number': 1,\n",
       "  'duration_ms': 453899,\n",
       "  'episode': False,\n",
       "  'explicit': False,\n",
       "  'external_ids': {'isrc': 'USBQU1900353'},\n",
       "  'external_urls': {'spotify': 'https://open.spotify.com/track/5BFn2BNYCQ42w3Z6P0MmIY'},\n",
       "  'href': 'https://api.spotify.com/v1/tracks/5BFn2BNYCQ42w3Z6P0MmIY',\n",
       "  'id': '5BFn2BNYCQ42w3Z6P0MmIY',\n",
       "  'is_local': False,\n",
       "  'is_playable': True,\n",
       "  'linked_from': {'external_urls': {'spotify': 'https://open.spotify.com/track/2CrpAAc9aqec3IXQBXpUoV'},\n",
       "   'href': 'https://api.spotify.com/v1/tracks/2CrpAAc9aqec3IXQBXpUoV',\n",
       "   'id': '2CrpAAc9aqec3IXQBXpUoV',\n",
       "   'type': 'track',\n",
       "   'uri': 'spotify:track:2CrpAAc9aqec3IXQBXpUoV'},\n",
       "  'name': 'Ordinary Boy - Floating Points Remix',\n",
       "  'popularity': 28,\n",
       "  'preview_url': 'https://p.scdn.co/mp3-preview/d77c4c9ecb973d2061ec883b46aa3fc898acf47a?cid=fad471ed57bb445f9f5397411571544a',\n",
       "  'track': True,\n",
       "  'track_number': 1,\n",
       "  'type': 'track',\n",
       "  'uri': 'spotify:track:5BFn2BNYCQ42w3Z6P0MmIY'},\n",
       " 'video_thumbnail': {'url': None}}"
      ]
     },
     "execution_count": 87,
     "metadata": {},
     "output_type": "execute_result"
    }
   ],
   "source": [
    "get_discover_weekly_tracks['items'][0]"
   ]
  },
  {
   "cell_type": "code",
   "execution_count": null,
   "metadata": {},
   "outputs": [],
   "source": []
  },
  {
   "cell_type": "code",
   "execution_count": null,
   "metadata": {},
   "outputs": [],
   "source": []
  },
  {
   "cell_type": "code",
   "execution_count": null,
   "metadata": {},
   "outputs": [],
   "source": []
  },
  {
   "cell_type": "code",
   "execution_count": null,
   "metadata": {},
   "outputs": [],
   "source": []
  },
  {
   "cell_type": "code",
   "execution_count": null,
   "metadata": {},
   "outputs": [],
   "source": []
  },
  {
   "cell_type": "code",
   "execution_count": null,
   "metadata": {},
   "outputs": [],
   "source": []
  },
  {
   "cell_type": "code",
   "execution_count": 3,
   "metadata": {},
   "outputs": [
    {
     "name": "stderr",
     "output_type": "stream",
     "text": [
      "Couldn't read cache at: .cache\n"
     ]
    },
    {
     "name": "stdout",
     "output_type": "stream",
     "text": [
      "0 Fila Brazillia  –  Throwing Down A Shape\n",
      "1 Underworld  –  Cups\n",
      "2 The Durutti Column  –  Never Known\n",
      "3 Call Super  –  Every Mouth Teeth Missing\n",
      "4 36  –  Stasis Sounds for Long-Distance Space Travel (Stage 2)\n",
      "5 Eliphino  –  I Don’t Care - Original Mix\n",
      "6 Drake  –  Thank Me Now\n",
      "7 Drake  –  Best I Ever Had\n",
      "8 Drake  –  Up All Night\n",
      "9 Drake  –  Over\n",
      "10 Drake  –  Show Me A Good Time\n",
      "11 deadmau5  –  Faxing Berlin\n",
      "12 Vangelis  –  Blade Runner Blues\n",
      "13 Sam Prekop  –  Summer Places\n",
      "14 Holy Fuck  –  Shivering\n",
      "15 Avey Tare  –  What’s The Goodside?\n",
      "16 Overmono  –  Everything U Need\n",
      "17 The Other People Place  –  Moonlight Rendezvous\n",
      "18 HAAi  –  Rotating In Unison\n",
      "19 NoGht  –  After Dark [long]\n"
     ]
    }
   ],
   "source": [
    "import spotipy\n",
    "from spotipy.oauth2 import SpotifyOAuth\n",
    "\n",
    "sp = spotipy.Spotify(auth_manager=SpotifyOAuth(client_id=\"39f9f9b5afca43ec900f2d7f7eb3bd67\",\n",
    "                                               client_secret=\"b4dafaa876a8407299f862250fecda35\",\n",
    "                                               redirect_uri=\"http://127.0.0.1:9090\",\n",
    "                                               scope=\"user-library-read\"))\n",
    "\n",
    "results = sp.current_user_saved_tracks()\n",
    "for idx, item in enumerate(results['items']):\n",
    "    track = item['track']\n",
    "    print(idx, track['artists'][0]['name'], \" – \", track['name'])"
   ]
  },
  {
   "cell_type": "code",
   "execution_count": null,
   "metadata": {},
   "outputs": [],
   "source": []
  },
  {
   "cell_type": "code",
   "execution_count": 7,
   "metadata": {},
   "outputs": [
    {
     "data": {
      "text/plain": [
       "{'collaborative': False,\n",
       " 'description': None,\n",
       " 'external_urls': {'spotify': 'https://open.spotify.com/user/12ian34/starred'},\n",
       " 'followers': None,\n",
       " 'href': None,\n",
       " 'id': None,\n",
       " 'images': [],\n",
       " 'name': 'Starred',\n",
       " 'owner': None,\n",
       " 'primary_color': None,\n",
       " 'public': True,\n",
       " 'snapshot_id': None,\n",
       " 'tracks': None,\n",
       " 'type': 'playlist',\n",
       " 'uri': None}"
      ]
     },
     "execution_count": 7,
     "metadata": {},
     "output_type": "execute_result"
    }
   ],
   "source": [
    "sp.user_playlist('12ian34')"
   ]
  }
 ],
 "metadata": {
  "kernelspec": {
   "display_name": "Python 3",
   "language": "python",
   "name": "python3"
  },
  "language_info": {
   "codemirror_mode": {
    "name": "ipython",
    "version": 3
   },
   "file_extension": ".py",
   "mimetype": "text/x-python",
   "name": "python",
   "nbconvert_exporter": "python",
   "pygments_lexer": "ipython3",
   "version": "3.8.5"
  },
  "varInspector": {
   "cols": {
    "lenName": 16,
    "lenType": 16,
    "lenVar": 40
   },
   "kernels_config": {
    "python": {
     "delete_cmd_postfix": "",
     "delete_cmd_prefix": "del ",
     "library": "var_list.py",
     "varRefreshCmd": "print(var_dic_list())"
    },
    "r": {
     "delete_cmd_postfix": ") ",
     "delete_cmd_prefix": "rm(",
     "library": "var_list.r",
     "varRefreshCmd": "cat(var_dic_list()) "
    }
   },
   "position": {
    "height": "144.85px",
    "left": "1889px",
    "right": "20px",
    "top": "125px",
    "width": "350px"
   },
   "types_to_exclude": [
    "module",
    "function",
    "builtin_function_or_method",
    "instance",
    "_Feature"
   ],
   "window_display": true
  }
 },
 "nbformat": 4,
 "nbformat_minor": 4
}
